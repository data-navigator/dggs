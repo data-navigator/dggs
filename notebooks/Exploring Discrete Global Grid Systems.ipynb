{
 "cells": [
  {
   "cell_type": "markdown",
   "metadata": {},
   "source": [
    "## Addressing the Earth's Surface using Discrete Global Grid Systems.\n",
    "\n",
    "In this notebook we will explore Discrete Global Grid Systems as a base for addressing the surface of the Earth. This differs substantially from cartesian coordinates in several significant ways.\n",
    "\n",
    "1. DGGS cells are addressed using a single string as opposed to coordinate pairs\n",
    "2. The cells used for this purpose are triangular in shape, not square.\n",
    "3. Cells are equal area and not subject to distortion created by cartesian coordinate systems on a spherical surface. "
   ]
  },
  {
   "cell_type": "markdown",
   "metadata": {},
   "source": [
    "### Concept\n",
    "\n",
    "The initial concept behind this addressing system uses equilateral triangles. Lets create one now."
   ]
  },
  {
   "cell_type": "code",
   "execution_count": 37,
   "metadata": {},
   "outputs": [
    {
     "data": {
      "image/png": "[encoded data removed]",
      "text/plain": [
       "<matplotlib.figure.Figure at 0x7fb2fe5ab780>"
      ]
     },
     "metadata": {},
     "output_type": "display_data"
    }
   ],
   "source": [
    "import matplotlib.pyplot as plt \n",
    "import numpy as np\n",
    "from matplotlib.path import Path\n",
    "from matplotlib.patches import PathPatch\n",
    "\n",
    "\n",
    "fig = plt.figure() \n",
    "ax = fig.add_subplot(111, aspect='equal') \n",
    "path = Path([[0,0],[0.5,1],[1,0],[0,0]])\n",
    "patch = PathPatch(path, facecolor='cyan')\n",
    "ax.add_patch(patch) \n",
    "ax.set_xlim((-0.1,1.1)) \n",
    "ax.set_ylim((-0.1,1.1)) \n",
    "plt.axis('off')\n",
    "plt.show()"
   ]
  },
  {
   "cell_type": "markdown",
   "metadata": {},
   "source": [
    "We can tessellate the triangle to form the net of an icosahedron."
   ]
  },
  {
   "cell_type": "code",
   "execution_count": 36,
   "metadata": {},
   "outputs": [
    {
     "data": {
      "image/png": "[encoded data removed]",
      "text/plain": [
       "<matplotlib.figure.Figure at 0x7fb2fe51c5c0>"
      ]
     },
     "metadata": {},
     "output_type": "display_data"
    }
   ],
   "source": [
    "import matplotlib.pyplot as plt \n",
    "import numpy as np\n",
    "from matplotlib.path import Path\n",
    "from matplotlib.patches import PathPatch\n",
    "\n",
    "\n",
    "fig = plt.figure() \n",
    "ax = fig.add_subplot(111, aspect='equal') \n",
    "t1 = Path([[0,0],[0.5,1],[1,0],[0,0]])\n",
    "t2 = Path([[0,0],[0.5,-1],[1,0],[0,0]])\n",
    "t3 = Path([[0.5,-1],[1.5,-1],[1,0],[0.5,-1]])\n",
    "t4 = Path([[0.5,-1],[1,-2],[1.5,-1],[0.5,-1]])\n",
    "patch1 = PathPatch(t1, facecolor='cyan')\n",
    "patch2 = PathPatch(t2, facecolor='blue')\n",
    "patch3 = PathPatch(t3, facecolor='cyan')\n",
    "patch4 = PathPatch(t4, facecolor='blue')\n",
    "ax.add_patch(patch1) \n",
    "ax.add_patch(patch2)\n",
    "ax.add_patch(patch3)\n",
    "ax.add_patch(patch4)\n",
    "\n",
    "t5 = Path([[1,0],[1.5,1],[2,0],[1,0]])\n",
    "t6 = Path([[1,0],[1.5,-1],[2,0],[1,0]])\n",
    "t7 = Path([[1.5,-1],[2.5,-1],[2,0],[1.5,-1]])\n",
    "t8 = Path([[1.5,-1],[2,-2],[2.5,-1],[1.5,-1]])\n",
    "patch5 = PathPatch(t5, facecolor='cyan')\n",
    "patch6 = PathPatch(t6, facecolor='blue')\n",
    "patch7 = PathPatch(t7, facecolor='cyan')\n",
    "patch8 = PathPatch(t8, facecolor='blue')\n",
    "ax.add_patch(patch5)\n",
    "ax.add_patch(patch6)\n",
    "ax.add_patch(patch7)\n",
    "ax.add_patch(patch8)\n",
    "\n",
    "t9 = Path([[2,0],[2.5,1],[3,0],[2,0]])\n",
    "t10 = Path([[2,0],[2.5,-1],[3,0],[2,0]])\n",
    "t11 = Path([[2.5,-1],[3.5,-1],[3,0],[2.5,-1]])\n",
    "t12 = Path([[2.5,-1],[3,-2],[3.5,-1],[2.5,-1]])\n",
    "patch9 = PathPatch(t9, facecolor='cyan')\n",
    "patch10 = PathPatch(t10, facecolor='blue')\n",
    "patch11 = PathPatch(t11, facecolor='cyan')\n",
    "patch12 = PathPatch(t12, facecolor='blue')\n",
    "ax.add_patch(patch9)\n",
    "ax.add_patch(patch10)\n",
    "ax.add_patch(patch11)\n",
    "ax.add_patch(patch12)\n",
    "\n",
    "t13 = Path([[3,0],[3.5,1],[4,0],[3,0]])\n",
    "t14 = Path([[3,0],[3.5,-1],[4,0],[3,0]])\n",
    "t15 = Path([[3.5,-1],[4.5,-1],[4,0],[3.5,-1]])\n",
    "t16 = Path([[3.5,-1],[4,-2],[4.5,-1],[3.5,-1]])\n",
    "patch13 = PathPatch(t13, facecolor='cyan')\n",
    "patch14 = PathPatch(t14, facecolor='blue')\n",
    "patch15 = PathPatch(t15, facecolor='cyan')\n",
    "patch16 = PathPatch(t16, facecolor='blue')\n",
    "ax.add_patch(patch13)\n",
    "ax.add_patch(patch14)\n",
    "ax.add_patch(patch15)\n",
    "ax.add_patch(patch16)\n",
    "\n",
    "t17 = Path([[4,0],[4.5,1],[5,0],[4,0]])\n",
    "t18 = Path([[4,0],[4.5,-1],[5,0],[4,0]])\n",
    "t19 = Path([[4.5,-1],[5.5,-1],[5,0],[4.5,-1]])\n",
    "t20 = Path([[4.5,-1],[5,-2],[5.5,-1],[4.5,-1]])\n",
    "patch17 = PathPatch(t17, facecolor='cyan')\n",
    "patch18 = PathPatch(t18, facecolor='blue')\n",
    "patch19 = PathPatch(t19, facecolor='cyan')\n",
    "patch20 = PathPatch(t20, facecolor='blue')\n",
    "ax.add_patch(patch17)\n",
    "ax.add_patch(patch18)\n",
    "ax.add_patch(patch19)\n",
    "ax.add_patch(patch20)\n",
    "\n",
    "ax.set_xlim((-0.1,5.6)) \n",
    "ax.set_ylim((-2.1,1.1)) \n",
    "plt.axis('off')\n",
    "plt.show()"
   ]
  },
  {
   "cell_type": "markdown",
   "metadata": {},
   "source": [
    "We now have twenty triangles, equal to the number of faces on an Icosahedron. Each triangle can be equally subdivided into multiple smaller triangles. This forms the basis of the addressing grid."
   ]
  },
  {
   "cell_type": "code",
   "execution_count": 56,
   "metadata": {
    "collapsed": true
   },
   "outputs": [],
   "source": [
    "import triangle"
   ]
  },
  {
   "cell_type": "code",
   "execution_count": 57,
   "metadata": {
    "collapsed": true
   },
   "outputs": [],
   "source": [
    "t = triangle.Triangle(1, 5, 5, 1)\n",
    "y = t.tessellate_class_one()"
   ]
  },
  {
   "cell_type": "code",
   "execution_count": 50,
   "metadata": {},
   "outputs": [
    {
     "name": "stdout",
     "output_type": "stream",
     "text": [
      "[(3.9, 5.25), (4.9, 4.5), (6.0, 5.25), (3.9, 5.25)]\n",
      "[(5.0, 6.0), (3.9, 5.25), (6.0, 5.25), (5.0, 6.0)]\n",
      "[(3.9, 5.25), (2.8, 4.5), (4.9, 4.5), (3.9, 5.25)]\n",
      "[(6.0, 5.25), (4.9, 4.5), (7, 4.5), (6.0, 5.25)]\n"
     ]
    }
   ],
   "source": [
    "for i in y:\n",
    "    print(i.vertices)"
   ]
  },
  {
   "cell_type": "code",
   "execution_count": 60,
   "metadata": {},
   "outputs": [
    {
     "data": {
      "text/plain": [
       "[(5.0, 6.0), (2.8, 4.5), (7, 4.5)]"
      ]
     },
     "execution_count": 60,
     "metadata": {},
     "output_type": "execute_result"
    }
   ],
   "source": [
    "t.vertices"
   ]
  },
  {
   "cell_type": "code",
   "execution_count": 53,
   "metadata": {},
   "outputs": [
    {
     "data": {
      "image/png": "[encoded data removed]",
      "text/plain": [
       "<matplotlib.figure.Figure at 0x7fb2fe7ec2e8>"
      ]
     },
     "metadata": {},
     "output_type": "display_data"
    }
   ],
   "source": [
    "import matplotlib.pyplot as plt \n",
    "import numpy as np\n",
    "from matplotlib.path import Path\n",
    "from matplotlib.patches import PathPatch\n",
    "\n",
    "\n",
    "fig = plt.figure() \n",
    "ax = fig.add_subplot(111, aspect='equal') \n",
    "path = Path(list(t.vertices))\n",
    "patch = PathPatch(path, facecolor='none')\n",
    "ax.add_patch(patch) \n",
    "\n",
    "for _ in t.tessellate_class_one():\n",
    "    path = Path(_.vertices)\n",
    "    patch = PathPatch(path, facecolor='none')\n",
    "    ax.add_patch(patch) \n",
    "\n",
    "ax.set_xlim((2,8)) \n",
    "ax.set_ylim((4,6.5)) \n",
    "\n",
    "plt.show()"
   ]
  },
  {
   "cell_type": "markdown",
   "metadata": {},
   "source": [
    "This forms the basis of the concept of a Discrete Global Grid System of addressed cells. The initial 20 triangles, folded into an Icosahedron can be projected to the surface of the earth and given an ID. Each Cell can then subdivide, giving each SubCell an ID by appending a second ID number/letter to the string. This can continue indefinitely, leading to many triangles within triangles that will continuously refine into a higher resolution grid of addresses. "
   ]
  },
  {
   "cell_type": "code",
   "execution_count": null,
   "metadata": {
    "collapsed": true
   },
   "outputs": [],
   "source": []
  },
  {
   "cell_type": "code",
   "execution_count": null,
   "metadata": {
    "collapsed": true
   },
   "outputs": [],
   "source": []
  },
  {
   "cell_type": "code",
   "execution_count": null,
   "metadata": {
    "collapsed": true
   },
   "outputs": [],
   "source": []
  },
  {
   "cell_type": "code",
   "execution_count": null,
   "metadata": {
    "collapsed": true
   },
   "outputs": [],
   "source": []
  },
  {
   "cell_type": "code",
   "execution_count": null,
   "metadata": {
    "collapsed": true
   },
   "outputs": [],
   "source": []
  },
  {
   "cell_type": "code",
   "execution_count": null,
   "metadata": {
    "collapsed": true
   },
   "outputs": [],
   "source": []
  },
  {
   "cell_type": "code",
   "execution_count": null,
   "metadata": {
    "collapsed": true
   },
   "outputs": [],
   "source": []
  },
  {
   "cell_type": "code",
   "execution_count": null,
   "metadata": {
    "collapsed": true
   },
   "outputs": [],
   "source": []
  },
  {
   "cell_type": "code",
   "execution_count": null,
   "metadata": {
    "collapsed": true
   },
   "outputs": [],
   "source": []
  },
  {
   "cell_type": "code",
   "execution_count": null,
   "metadata": {
    "collapsed": true
   },
   "outputs": [],
   "source": []
  },
  {
   "cell_type": "code",
   "execution_count": null,
   "metadata": {
    "collapsed": true
   },
   "outputs": [],
   "source": [
    "import plotly.plotly as py\n",
    "import numpy as np\n",
    "\n",
    "data = [dict(\n",
    "        visible = False,\n",
    "        line=dict(color='00CED1', width=6),\n",
    "        name = '𝜈 = '+str(step),\n",
    "        x = np.arange(0,10,0.01),\n",
    "        y = np.sin(step*np.arange(0,10,0.01))) for step in np.arange(0,5,0.1)]\n",
    "data[10]['visible'] = True\n",
    "\n",
    "steps = []\n",
    "for i in range(len(data)):\n",
    "    step = dict(\n",
    "        method = 'restyle',\n",
    "        args = ['visible', [False] * len(data)],\n",
    "    )\n",
    "    step['args'][1][i] = True # Toggle i'th trace to \"visible\"\n",
    "    steps.append(step)\n",
    "\n",
    "sliders = [dict(\n",
    "    active = 10,\n",
    "    currentvalue = {\"prefix\": \"Frequency: \"},\n",
    "    pad = {\"t\": 50},\n",
    "    steps = steps\n",
    ")]\n",
    "\n",
    "layout = dict(sliders=sliders)\n",
    "fig = dict(data=data, layout=layout)\n",
    "\n",
    "py.iplot(fig, filename='Sine Wave Slider')"
   ]
  },
  {
   "cell_type": "code",
   "execution_count": null,
   "metadata": {
    "collapsed": true
   },
   "outputs": [],
   "source": []
  },
  {
   "cell_type": "code",
   "execution_count": null,
   "metadata": {
    "collapsed": true
   },
   "outputs": [],
   "source": [
    "from IPython.display import display, Math, Latex\n",
    "\n",
    "display(Math(r'F(k) = \\int_{-\\infty}^{\\infty} f(x) e^{2\\pi i k} dx'))"
   ]
  },
  {
   "cell_type": "code",
   "execution_count": null,
   "metadata": {
    "collapsed": true
   },
   "outputs": [],
   "source": [
    "from IPython.display import YouTubeVideo\n",
    "YouTubeVideo(\"p86BPM1GV8M\")"
   ]
  },
  {
   "cell_type": "code",
   "execution_count": null,
   "metadata": {
    "collapsed": true
   },
   "outputs": [],
   "source": []
  },
  {
   "cell_type": "code",
   "execution_count": null,
   "metadata": {
    "collapsed": true
   },
   "outputs": [],
   "source": []
  }
 ],
 "metadata": {
  "kernelspec": {
   "display_name": "Python 3",
   "language": "python",
   "name": "python3"
  },
  "language_info": {
   "codemirror_mode": {
    "name": "ipython",
    "version": 3
   },
   "file_extension": ".py",
   "mimetype": "text/x-python",
   "name": "python",
   "nbconvert_exporter": "python",
   "pygments_lexer": "ipython3",
   "version": "3.6.1"
  }
 },
 "nbformat": 4,
 "nbformat_minor": 2
}
