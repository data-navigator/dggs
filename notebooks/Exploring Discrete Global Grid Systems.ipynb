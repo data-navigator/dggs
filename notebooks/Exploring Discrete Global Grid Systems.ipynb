{
 "cells": [
  {
   "cell_type": "markdown",
   "metadata": {},
   "source": [
    "### Concept\n",
    "\n",
    "The initial concept behind this addressing system uses equilateral triangles. Lets create one now."
   ]
  },
  {
   "cell_type": "code",
   "execution_count": 1,
   "metadata": {},
   "outputs": [
    {
     "name": "stdout",
     "output_type": "stream",
     "text": [
      "['', '//anaconda/envs/dggs-sandbox/lib/python36.zip', '//anaconda/envs/dggs-sandbox/lib/python3.6', '//anaconda/envs/dggs-sandbox/lib/python3.6/lib-dynload', '//anaconda/envs/dggs-sandbox/lib/python3.6/site-packages', '//anaconda/envs/dggs-sandbox/lib/python3.6/site-packages/cycler-0.10.0-py3.6.egg', '//anaconda/envs/dggs-sandbox/lib/python3.6/site-packages/IPython/extensions', '/Users/clint/.ipython', '/Users/clint/code/github.com/data-navigator/dggs-package/DGGS/cell']\n"
     ]
    }
   ],
   "source": [
    "import matplotlib.pyplot as plt \n",
    "import numpy as np\n",
    "import string\n",
    "import sys\n",
    "\n",
    "sys.path.append(r'/Users/clint/code/github.com/data-navigator/dggs-package/DGGS/cell')\n",
    "print(sys.path)\n",
    "from triangle import Triangle"
   ]
  },
  {
   "cell_type": "code",
   "execution_count": 2,
   "metadata": {},
   "outputs": [
    {
     "name": "stdout",
     "output_type": "stream",
     "text": [
      "[[0, 0], [0.5, 1], [1, 0]]\n"
     ]
    },
    {
     "ename": "TypeError",
     "evalue": "'>' not supported between instances of 'operator.itemgetter' and 'operator.itemgetter'",
     "output_type": "error",
     "traceback": [
      "\u001b[0;31m---------------------------------------------------------------------------\u001b[0m",
      "\u001b[0;31mTypeError\u001b[0m                                 Traceback (most recent call last)",
      "\u001b[0;32m<ipython-input-2-778ff1a874ad>\u001b[0m in \u001b[0;36m<module>\u001b[0;34m()\u001b[0m\n\u001b[0;32m----> 1\u001b[0;31m \u001b[0mt\u001b[0m \u001b[0;34m=\u001b[0m \u001b[0mTriangle\u001b[0m\u001b[0;34m(\u001b[0m\u001b[0;36m1\u001b[0m\u001b[0;34m,\u001b[0m \u001b[0;34m'A'\u001b[0m\u001b[0;34m,\u001b[0m \u001b[0;34m[\u001b[0m\u001b[0;34m[\u001b[0m\u001b[0;36m0\u001b[0m\u001b[0;34m,\u001b[0m\u001b[0;36m0\u001b[0m\u001b[0;34m]\u001b[0m\u001b[0;34m,\u001b[0m\u001b[0;34m[\u001b[0m\u001b[0;36m0.5\u001b[0m\u001b[0;34m,\u001b[0m\u001b[0;36m1\u001b[0m\u001b[0;34m]\u001b[0m\u001b[0;34m,\u001b[0m\u001b[0;34m[\u001b[0m\u001b[0;36m1\u001b[0m\u001b[0;34m,\u001b[0m\u001b[0;36m0\u001b[0m\u001b[0;34m]\u001b[0m\u001b[0;34m]\u001b[0m\u001b[0;34m,\u001b[0m \u001b[0;34m'cyan'\u001b[0m\u001b[0;34m)\u001b[0m\u001b[0;34m\u001b[0m\u001b[0m\n\u001b[0m\u001b[1;32m      2\u001b[0m \u001b[0mprint\u001b[0m\u001b[0;34m(\u001b[0m\u001b[0mt\u001b[0m\u001b[0;34m.\u001b[0m\u001b[0mvertices\u001b[0m\u001b[0;34m)\u001b[0m\u001b[0;34m\u001b[0m\u001b[0m\n\u001b[1;32m      3\u001b[0m \u001b[0;34m\u001b[0m\u001b[0m\n\u001b[1;32m      4\u001b[0m \u001b[0mfig0\u001b[0m \u001b[0;34m=\u001b[0m \u001b[0mplt\u001b[0m\u001b[0;34m.\u001b[0m\u001b[0mfigure\u001b[0m\u001b[0;34m(\u001b[0m\u001b[0;34m)\u001b[0m\u001b[0;34m\u001b[0m\u001b[0m\n\u001b[1;32m      5\u001b[0m \u001b[0max0\u001b[0m \u001b[0;34m=\u001b[0m \u001b[0mfig0\u001b[0m\u001b[0;34m.\u001b[0m\u001b[0madd_subplot\u001b[0m\u001b[0;34m(\u001b[0m\u001b[0;36m111\u001b[0m\u001b[0;34m,\u001b[0m \u001b[0maspect\u001b[0m\u001b[0;34m=\u001b[0m\u001b[0;34m'equal'\u001b[0m\u001b[0;34m)\u001b[0m\u001b[0;34m\u001b[0m\u001b[0m\n",
      "\u001b[0;32m~/code/github.com/data-navigator/dggs-package/DGGS/cell/triangle.py\u001b[0m in \u001b[0;36m__init__\u001b[0;34m(self, oid, address, vertices, patch_color)\u001b[0m\n\u001b[1;32m     24\u001b[0m         \u001b[0mself\u001b[0m\u001b[0;34m.\u001b[0m\u001b[0m_oid\u001b[0m \u001b[0;34m=\u001b[0m \u001b[0moid\u001b[0m\u001b[0;34m\u001b[0m\u001b[0m\n\u001b[1;32m     25\u001b[0m         \u001b[0mself\u001b[0m\u001b[0;34m.\u001b[0m\u001b[0m_address\u001b[0m \u001b[0;34m=\u001b[0m \u001b[0maddress\u001b[0m\u001b[0;34m\u001b[0m\u001b[0m\n\u001b[0;32m---> 26\u001b[0;31m         \u001b[0mself\u001b[0m\u001b[0;34m.\u001b[0m\u001b[0m_vertices\u001b[0m \u001b[0;34m=\u001b[0m \u001b[0mself\u001b[0m\u001b[0;34m.\u001b[0m\u001b[0m_normalize_vertices\u001b[0m\u001b[0;34m(\u001b[0m\u001b[0mvertices\u001b[0m\u001b[0;34m)\u001b[0m\u001b[0;34m\u001b[0m\u001b[0m\n\u001b[0m\u001b[1;32m     27\u001b[0m         \u001b[0mself\u001b[0m\u001b[0;34m.\u001b[0m\u001b[0m_patch\u001b[0m \u001b[0;34m=\u001b[0m \u001b[0;32mNone\u001b[0m\u001b[0;34m\u001b[0m\u001b[0m\n\u001b[1;32m     28\u001b[0m         \u001b[0mself\u001b[0m\u001b[0;34m.\u001b[0m\u001b[0mpatch_color\u001b[0m \u001b[0;34m=\u001b[0m \u001b[0mpatch_color\u001b[0m\u001b[0;34m\u001b[0m\u001b[0m\n",
      "\u001b[0;32m~/code/github.com/data-navigator/dggs-package/DGGS/cell/triangle.py\u001b[0m in \u001b[0;36m_normalize_vertices\u001b[0;34m(self, vertices)\u001b[0m\n\u001b[1;32m     35\u001b[0m         \u001b[0;31m# point = max if not self.inverted else min\u001b[0m\u001b[0;34m\u001b[0m\u001b[0;34m\u001b[0m\u001b[0m\n\u001b[1;32m     36\u001b[0m         \u001b[0mprint\u001b[0m\u001b[0;34m(\u001b[0m\u001b[0mvertices\u001b[0m\u001b[0;34m)\u001b[0m\u001b[0;34m\u001b[0m\u001b[0m\n\u001b[0;32m---> 37\u001b[0;31m         \u001b[0mprint\u001b[0m\u001b[0;34m(\u001b[0m\u001b[0mmax\u001b[0m\u001b[0;34m(\u001b[0m\u001b[0mvertices\u001b[0m\u001b[0;34m,\u001b[0m \u001b[0mkey\u001b[0m\u001b[0;34m=\u001b[0m\u001b[0;32mlambda\u001b[0m \u001b[0mv\u001b[0m\u001b[0;34m:\u001b[0m \u001b[0moperator\u001b[0m\u001b[0;34m.\u001b[0m\u001b[0mitemgetter\u001b[0m\u001b[0;34m(\u001b[0m\u001b[0;36m0\u001b[0m\u001b[0;34m)\u001b[0m\u001b[0;34m)\u001b[0m\u001b[0;34m)\u001b[0m\u001b[0;34m\u001b[0m\u001b[0m\n\u001b[0m\u001b[1;32m     38\u001b[0m \u001b[0;34m\u001b[0m\u001b[0m\n\u001b[1;32m     39\u001b[0m     \u001b[0;34m@\u001b[0m\u001b[0mclassmethod\u001b[0m\u001b[0;34m\u001b[0m\u001b[0m\n",
      "\u001b[0;31mTypeError\u001b[0m: '>' not supported between instances of 'operator.itemgetter' and 'operator.itemgetter'"
     ]
    }
   ],
   "source": [
    "t = Triangle(1, 'A', [[0,0],[0.5,1],[1,0]], 'cyan')\n",
    "print(t.vertices)\n",
    "\n",
    "fig0 = plt.figure() \n",
    "ax0 = fig0.add_subplot(111, aspect='equal') \n",
    "ax0.add_patch(t.patch) \n",
    "ax0.set_xlim((-0.1,1.1)) \n",
    "ax0.set_ylim((-0.1,1.1)) \n",
    "plt.axis('off')\n",
    "plt.show()"
   ]
  },
  {
   "cell_type": "markdown",
   "metadata": {},
   "source": [
    "We can tessellate the triangle to form the net of an icosahedron."
   ]
  },
  {
   "cell_type": "code",
   "execution_count": null,
   "metadata": {},
   "outputs": [],
   "source": [
    "import string\n",
    "\n",
    "vertices= [\n",
    "    [[0,0],[0.5,1],[1,0]],\n",
    "    [[0,0],[0.5,-1],[1,0]],\n",
    "    [[0.5,-1],[1.5,-1],[1,0]],\n",
    "    [[0.5,-1],[1,-2],[1.5,-1]],\n",
    "    [[1,0],[1.5,1],[2,0]],\n",
    "    [[1,0],[1.5,-1],[2,0]],\n",
    "    [[1.5,-1],[2.5,-1],[2,0]],\n",
    "    [[1.5,-1],[2,-2],[2.5,-1]],\n",
    "    [[2,0],[2.5,1],[3,0]],\n",
    "    [[2,0],[2.5,-1],[3,0]],\n",
    "    [[2.5,-1],[3.5,-1],[3,0]],\n",
    "    [[2.5,-1],[3,-2],[3.5,-1]],\n",
    "    [[3,0],[3.5,1],[4,0]],\n",
    "    [[3,0],[3.5,-1],[4,0]],\n",
    "    [[3.5,-1],[4.5,-1],[4,0]],\n",
    "    [[3.5,-1],[4,-2],[4.5,-1]],\n",
    "    [[4,0],[4.5,1],[5,0]],\n",
    "    [[4,0],[4.5,-1],[5,0]],\n",
    "    [[4.5,-1],[5.5,-1],[5,0]],\n",
    "    [[4.5,-1],[5,-2],[5.5,-1]],\n",
    "]\n",
    "\n",
    "\n",
    "\n",
    "fig1 = plt.figure() \n",
    "ax1 = fig1.add_subplot(111, aspect='equal') \n",
    "ax1.set_xlim((-0.1,5.6)) \n",
    "ax1.set_ylim((-2.1,1.1)) \n",
    "\n",
    "address = string.ascii_uppercase\n",
    "\n",
    "def color(i):\n",
    "    groups = [['A', 'B', 'C', 'D'],\n",
    "              ['E', 'F', 'G', 'H'],\n",
    "              ['I', 'J', 'K', 'L'],\n",
    "              ['M', 'N', 'O', 'P'],\n",
    "              ['Q', 'R', 'S', 'T']]\n",
    "    colors = ['Cyan', 'Blue', 'Green', 'Yellow', 'Orange']\n",
    "    for j, group in enumerate(groups):\n",
    "        if i in group:\n",
    "            return colors[j]\n",
    "\n",
    "for t in [Triangle(i, address[i], v, color(address[i])) for i, v, in enumerate(vertices)]:\n",
    "    ax1.add_patch(t.patch)\n",
    "    for _ in t.tessellate():\n",
    "        ax1.add_patch(_.patch) \n",
    "        ax1.annotate(_.oid, xy=_.centroid)\n",
    "    \n",
    "\n",
    "plt.axis('off')\n",
    "plt.show()"
   ]
  },
  {
   "cell_type": "markdown",
   "metadata": {},
   "source": [
    "We now have twenty triangles, equal to the number of faces on an Icosahedron. Each triangle can be equally subdivided into 9 smaller triangles. This forms the basis of the addressing grid."
   ]
  },
  {
   "cell_type": "code",
   "execution_count": null,
   "metadata": {},
   "outputs": [],
   "source": [
    "t2 = Triangle('A', 'A', [(0,0),(0.5,1),(1,0)])\n",
    "t2b = Triangle('B', 'B', [[0,0],[0.5,-1],[1,0]])\n",
    "t2c = Triangle('C', 'C', [[0.5,-1],[1.5,-1],[1,0]])\n",
    "t2d = Triangle('D', 'D', [[0.5,-1],[1,-2],[1.5,-1]])\n",
    "tess_class_two = t2.tessellate()\n",
    "tess_class_two_b = t2b.tessellate()\n",
    "tess_class_two_c = t2c.tessellate()\n",
    "tess_class_two_d = t2d.tessellate()\n",
    "\n",
    "fig3 = plt.figure() \n",
    "ax3 = fig3.add_subplot(111, aspect='equal') \n",
    "ax3.add_patch(t2.patch) \n",
    "\n",
    "for _ in tess_class_two:\n",
    "    ax3.add_patch(_.patch) \n",
    "    ax3.annotate(_.oid, xy=_.centroid)\n",
    "for _ in tess_class_two_b:\n",
    "    ax3.add_patch(_.patch) \n",
    "    ax3.annotate(_.oid, xy=_.centroid)\n",
    "for _ in tess_class_two_c:\n",
    "    ax3.add_patch(_.patch) \n",
    "    ax3.annotate(_.oid, xy=_.centroid)\n",
    "for _ in tess_class_two_d:\n",
    "    ax3.add_patch(_.patch) \n",
    "    ax3.annotate(_.oid, xy=_.centroid)\n",
    "\n",
    "ax3.set_xlim((-0.1,2.1)) \n",
    "ax3.set_ylim((-2.1,1.1)) \n",
    "\n",
    "plt.axis('off')\n",
    "plt.show()"
   ]
  },
  {
   "cell_type": "markdown",
   "metadata": {},
   "source": [
    "A grid of 20 initial equilateral triangles, tiling fractally into 9-triangle subdivisions is the key concept of a Discrete Global Grid System of addressed cells. Each initial cell with a letter ID can then subdivide, giving each subcell a unique address by appending a second ID number/letter to the string based on its location in the tiling. This can continue indefinitely, leading to many triangles within triangles that will continuously refine into a higher resolution grid of addresses. "
   ]
  },
  {
   "cell_type": "code",
   "execution_count": null,
   "metadata": {},
   "outputs": [],
   "source": [
    "t3 = Triangle(1, 'A', [(0,0),(0.5,1),(1,0)])\n",
    "tess = t3.tessellate()\n",
    "\n",
    "fig4 = plt.figure() \n",
    "ax4 = fig4.add_subplot(111, aspect='equal') \n",
    "ax4.add_patch(t3.patch) \n",
    "\n",
    "for a in tess:\n",
    "    ax4.add_patch(a.patch)\n",
    "    for b in a.tessellate():\n",
    "        ax4.add_patch(b.patch)\n",
    "        for c in b.tessellate():\n",
    "            ax4.add_patch(c.patch)\n",
    "            \n",
    "\n",
    "ax4.set_xlim((-0.1,1.1)) \n",
    "ax4.set_ylim((-0.1,1.1)) \n",
    "\n",
    "plt.axis('off')\n",
    "plt.show()"
   ]
  },
  {
   "cell_type": "markdown",
   "metadata": {
    "collapsed": true
   },
   "source": [
    "As we can see in the above image, this tiling process creates a triangluar grid, covering the full area of the main triangle. In a cartesian grid, the location of a point is given by a coordinate pair. In a discrete triangular grid it is given by the address of the cell which contains the point (to a given level of precision). The triangular cell is therefore part of the grid itself, instead of existing 'on' the grid as with cartesian points. The numbers 1-9 are used in cell addresses, so 0 is left to be used signify precision. For example requesting cells with the address 'A3' will return all the triangles with \"A3\" as the first 2 characters in their address. Requesting 'A310' returns a finer subset with \"A31\" as the first 3 characters and the underlying 4-character addressed cells as well. Therefore 'A90000' would return all cells to 5 subdivisions of precision within cells within \"A9\". A single cell can be addressed without a trailing 0 - such as 'A124'. Groups can be a list for now ie: ['A62', 'A63', 'A64']. Since the triangular cells are conceptually similar points, groups of them can also form similar structures to 'lines' and 'polygons'. Special notation will be developed to deal with ranges in these cases. "
   ]
  },
  {
   "cell_type": "code",
   "execution_count": null,
   "metadata": {},
   "outputs": [],
   "source": [
    "t4 = Triangle(1, 'A', [(0,0),(0.5,1),(1,0)])\n",
    "tess = t4.tessellate()\n",
    "\n",
    "fig5 = plt.figure(figsize=(30,30))\n",
    "ax5 = fig5.add_subplot(111, aspect='equal') \n",
    "ax5.add_patch(t4.patch) \n",
    "\n",
    "for a in tess:\n",
    "    ax5.add_patch(a.patch)\n",
    "    for b in a.tessellate():\n",
    "        ax5.add_patch(b.patch)\n",
    "        for c in b.tessellate():\n",
    "            group = ['A62', 'A63', 'A64', 'A661']\n",
    "            hexagon = ['A885', 'A845', 'A846', 'A847', 'A882', 'A886']\n",
    "            line = ['A764', 'A768', 'A767', 'A754', 'A772', 'A773',\n",
    "                    'A774', 'A787', 'A788', 'A784', 'A783', 'A781',\n",
    "                    'A749', 'A879']\n",
    "            if any(map(lambda address: address in c.address, group)):\n",
    "                c.patch_color = 'green'\n",
    "            if any(map(lambda address: address in c.address, hexagon)):\n",
    "                c.patch_color = 'orange'\n",
    "            if any(map(lambda address: address in c.address, line)):\n",
    "                c.patch_color = 'yellow'\n",
    "            if 'A3' in c.address:\n",
    "                c.patch_color = 'cyan'\n",
    "            if 'A31' in c.address:\n",
    "                c.patch_color = 'blue'\n",
    "            if 'A124' in c.address:\n",
    "                c.patch_color = 'red'\n",
    "            ax5.annotate(c.address,\n",
    "                         xy=c.centroid,\n",
    "                         xytext=(c.centroid[0] - 0.0075, c.centroid[1]),\n",
    "                         horizontalalignment='left')\n",
    "            ax5.add_patch(c.patch)\n",
    "\n",
    "ax5.set_xlim((0,1)) \n",
    "ax5.set_ylim((0,1)) \n",
    "\n",
    "plt.axis('off')\n",
    "plt.show()"
   ]
  },
  {
   "cell_type": "markdown",
   "metadata": {
    "collapsed": true
   },
   "source": [
    "With reliable locations of cell addresses we can form algorithms to traverse cells from one address to another. "
   ]
  },
  {
   "cell_type": "code",
   "execution_count": null,
   "metadata": {
    "collapsed": true
   },
   "outputs": [],
   "source": []
  },
  {
   "cell_type": "code",
   "execution_count": null,
   "metadata": {
    "collapsed": true
   },
   "outputs": [],
   "source": []
  },
  {
   "cell_type": "code",
   "execution_count": null,
   "metadata": {
    "collapsed": true
   },
   "outputs": [],
   "source": []
  },
  {
   "cell_type": "code",
   "execution_count": null,
   "metadata": {
    "collapsed": true
   },
   "outputs": [],
   "source": []
  },
  {
   "cell_type": "code",
   "execution_count": null,
   "metadata": {
    "collapsed": true
   },
   "outputs": [],
   "source": []
  },
  {
   "cell_type": "code",
   "execution_count": null,
   "metadata": {
    "collapsed": true
   },
   "outputs": [],
   "source": []
  },
  {
   "cell_type": "code",
   "execution_count": null,
   "metadata": {
    "collapsed": true
   },
   "outputs": [],
   "source": []
  }
 ],
 "metadata": {
  "kernelspec": {
   "display_name": "Python 3",
   "language": "python",
   "name": "python3"
  },
  "language_info": {
   "codemirror_mode": {
    "name": "ipython",
    "version": 3
   },
   "file_extension": ".py",
   "mimetype": "text/x-python",
   "name": "python",
   "nbconvert_exporter": "python",
   "pygments_lexer": "ipython3",
   "version": "3.6.1"
  }
 },
 "nbformat": 4,
 "nbformat_minor": 2
}
